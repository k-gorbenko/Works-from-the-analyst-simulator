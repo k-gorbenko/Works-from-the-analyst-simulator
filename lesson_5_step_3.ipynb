{
 "cells": [
  {
   "cell_type": "code",
   "execution_count": 22,
   "id": "9c037a62-8447-4918-b146-efc9378b7e52",
   "metadata": {},
   "outputs": [],
   "source": [
    "import pandas as pd\n",
    "import numpy as  np\n",
    "import matplotlib.pyplot as plt\n",
    "import seaborn as sns\n",
    "import pandahouse as ph\n",
    "import hashlib\n",
    "import swifter\n",
    "from scipy import stats"
   ]
  },
  {
   "cell_type": "code",
   "execution_count": 23,
   "id": "c3810047-0fe0-4796-8b2d-3cc4d11da404",
   "metadata": {},
   "outputs": [],
   "source": [
    " connection = {\n",
    "    'host': 'https://clickhouse.lab.karpov.courses',\n",
    "    'database':'simulator_20240120',\n",
    "    'user':'student',\n",
    "    'password':'dpo_python_2020'\n",
    "}\n",
    "\n",
    "query = '''\n",
    "select user_id,\n",
    "    exp_group,\n",
    "    sum(action = 'like') as likes,\n",
    "    sum(action = 'view') as views,\n",
    "    likes/views as ctr\n",
    "from {db}.feed_actions\n",
    "where toDate(time) >= '2023-12-29' and toDate(time) <= '2024-01-04'\n",
    "group by exp_group, user_id\n",
    "'''\n",
    "\n",
    "df = ph.read_clickhouse(query, connection=connection)"
   ]
  },
  {
   "cell_type": "code",
   "execution_count": 24,
   "id": "4c6f56a7-f4df-4d2a-9212-772eeb2b0c83",
   "metadata": {},
   "outputs": [
    {
     "name": "stdout",
     "output_type": "stream",
     "text": [
      "       user_id  exp_group  likes  views       ctr\n",
      "0        18392          1      7     32  0.218750\n",
      "1       115383          3     12     44  0.272727\n",
      "2       123580          3      2     11  0.181818\n",
      "3       131473          2      9    108  0.083333\n",
      "4       107323          4      5     31  0.161290\n",
      "...        ...        ...    ...    ...       ...\n",
      "49809    27030          0     12     64  0.187500\n",
      "49810   122758          3     20    118  0.169492\n",
      "49811   132567          1     52    326  0.159509\n",
      "49812   122190          3     19     65  0.292308\n",
      "49813    17310          2      9     82  0.109756\n",
      "\n",
      "[49814 rows x 5 columns]\n"
     ]
    }
   ],
   "source": [
    "print(df)"
   ]
  },
  {
   "cell_type": "markdown",
   "id": "5f16ee01-4730-46f0-ace4-a278f5893631",
   "metadata": {},
   "source": [
    "## Анализирую тест между группами 0 и 3 по метрике линеаризованных лайков."
   ]
  },
  {
   "cell_type": "code",
   "execution_count": 26,
   "id": "16277b03-94be-4b57-aadf-d1fa5fdf75c8",
   "metadata": {},
   "outputs": [
    {
     "name": "stdout",
     "output_type": "stream",
     "text": [
      "       user_id  exp_group  likes  views       ctr\n",
      "1       115383          3     12     44  0.272727\n",
      "2       123580          3      2     11  0.181818\n",
      "7        30319          0     25    114  0.219298\n",
      "9       118359          3      7     38  0.184211\n",
      "11        7626          0     14     39  0.358974\n",
      "...        ...        ...    ...    ...       ...\n",
      "49795   110492          0      4     17  0.235294\n",
      "49808   136299          0     35    116  0.301724\n",
      "49809    27030          0     12     64  0.187500\n",
      "49810   122758          3     20    118  0.169492\n",
      "49812   122190          3     19     65  0.292308\n",
      "\n",
      "[19922 rows x 5 columns]\n"
     ]
    }
   ],
   "source": [
    "#отфильтровал строки для групп 0 и 3\n",
    "filter_df_0_and_3 = df[(df['exp_group'] == 0) | (df['exp_group'] == 3)]\n",
    "print(filter_df_0_and_3)"
   ]
  },
  {
   "cell_type": "code",
   "execution_count": 32,
   "id": "69d53a40-d992-489b-ad61-0a3b9148f6a5",
   "metadata": {},
   "outputs": [
    {
     "data": {
      "image/png": "[encoded data removed]",
      "text/plain": [
       "<Figure size 800x640 with 1 Axes>"
      ]
     },
     "metadata": {},
     "output_type": "display_data"
    }
   ],
   "source": [
    "#Визуализирую распределения CTR по группам 0 и 3\n",
    "sns.set(rc={'figure.figsize':(10, 8), 'figure.dpi': 80})\n",
    "g = sns.histplot(data = filter_df_0_and_3, x = 'ctr', hue = 'exp_group', palette = ['blue','red'], alpha = 0.6, kde = False)"
   ]
  },
  {
   "cell_type": "markdown",
   "id": "273a0aaa-97cc-4e05-9b26-20d487b5a7fd",
   "metadata": {},
   "source": [
    "Распределения выглядят почти равномерными и прокрасились"
   ]
  },
  {
   "cell_type": "code",
   "execution_count": 37,
   "id": "3a8dad43-4b81-414c-a0e6-988d3d11c1e3",
   "metadata": {},
   "outputs": [
    {
     "name": "stdout",
     "output_type": "stream",
     "text": [
      "       user_id  exp_group  likes  views       ctr\n",
      "7        30319          0     25    114  0.219298\n",
      "11        7626          0     14     39  0.358974\n",
      "25       12217          0     12     52  0.230769\n",
      "26        3450          0     10     42  0.238095\n",
      "28      109621          0     25    166  0.150602\n",
      "...        ...        ...    ...    ...       ...\n",
      "49790   109908          0      2     17  0.117647\n",
      "49792   137355          0     24    127  0.188976\n",
      "49795   110492          0      4     17  0.235294\n",
      "49808   136299          0     35    116  0.301724\n",
      "49809    27030          0     12     64  0.187500\n",
      "\n",
      "[9920 rows x 5 columns]\n"
     ]
    }
   ],
   "source": [
    "#отфильтровываю датафрйем для группы 0\n",
    "filter_df_0 = filter_df_0_and_3[filter_df_0_and_3['exp_group'] == 0]\n",
    "print(filter_df_0)"
   ]
  },
  {
   "cell_type": "code",
   "execution_count": 38,
   "id": "ae39fdc1-d454-498d-bf43-ed7b9f94edab",
   "metadata": {},
   "outputs": [
    {
     "name": "stdout",
     "output_type": "stream",
     "text": [
      "       user_id  exp_group  likes  views       ctr\n",
      "1       115383          3     12     44  0.272727\n",
      "2       123580          3      2     11  0.181818\n",
      "9       118359          3      7     38  0.184211\n",
      "12       16699          3      6     16  0.375000\n",
      "14      138445          3     18     93  0.193548\n",
      "...        ...        ...    ...    ...       ...\n",
      "49778    17042          3      3     12  0.250000\n",
      "49779   108659          3      0      9  0.000000\n",
      "49782   123869          3     24     78  0.307692\n",
      "49810   122758          3     20    118  0.169492\n",
      "49812   122190          3     19     65  0.292308\n",
      "\n",
      "[10002 rows x 5 columns]\n"
     ]
    }
   ],
   "source": [
    "#отфильтровываю датафрйем для группы 3\n",
    "filter_df_3 = filter_df_0_and_3[filter_df_0_and_3['exp_group'] == 3]\n",
    "print(filter_df_3)"
   ]
  },
  {
   "cell_type": "markdown",
   "id": "6c7d5eeb-a0ed-459b-8456-5dcc72d8d81b",
   "metadata": {},
   "source": [
    "## Группа 0 - контрольная группа, группа 3 - тестовая"
   ]
  },
  {
   "cell_type": "code",
   "execution_count": 50,
   "id": "0a6d255b-f496-4d16-90a3-e11a822d6792",
   "metadata": {},
   "outputs": [
    {
     "data": {
      "text/plain": [
       "Ttest_indResult(statistic=-13.935320516755823, pvalue=6.216047483057877e-44)"
      ]
     },
     "execution_count": 50,
     "metadata": {},
     "output_type": "execute_result"
    }
   ],
   "source": [
    "#проведу сначала t-тест по CTR\n",
    "stats.ttest_ind(filter_df_0_and_3[filter_df_0_and_3.exp_group == 0].ctr,\n",
    "          filter_df_0_and_3[filter_df_0_and_3.exp_group == 3].ctr,\n",
    "          equal_var=False)"
   ]
  },
  {
   "cell_type": "markdown",
   "id": "508400cd-051e-4648-86e3-cce1c561b6d5",
   "metadata": {},
   "source": [
    "!!!p-value < 0.05, значит есть отличия в группах 0 и 3"
   ]
  },
  {
   "cell_type": "code",
   "execution_count": 39,
   "id": "5bd2b18c-152b-4ff6-910e-0b3c4f890251",
   "metadata": {},
   "outputs": [
    {
     "name": "stdout",
     "output_type": "stream",
     "text": [
      "0.20983799195924746\n"
     ]
    }
   ],
   "source": [
    "#посчитаю CTR для контрольной группы\n",
    "CTR_0 = filter_df_0['likes'].sum() / filter_df_0['views'].sum()\n",
    "print(CTR_0)"
   ]
  },
  {
   "cell_type": "code",
   "execution_count": 41,
   "id": "e2cecac5-c4e3-434e-9521-4650416884a8",
   "metadata": {},
   "outputs": [
    {
     "name": "stdout",
     "output_type": "stream",
     "text": [
      "       user_id  exp_group  likes  views       ctr  linearized_likes\n",
      "1       115383          3     12     44  0.272727          2.767128\n",
      "2       123580          3      2     11  0.181818         -0.308218\n",
      "7        30319          0     25    114  0.219298          1.078469\n",
      "9       118359          3      7     38  0.184211         -0.973844\n",
      "11        7626          0     14     39  0.358974          5.816318\n",
      "...        ...        ...    ...    ...       ...               ...\n",
      "49795   110492          0      4     17  0.235294          0.432754\n",
      "49808   136299          0     35    116  0.301724         10.658793\n",
      "49809    27030          0     12     64  0.187500         -1.429631\n",
      "49810   122758          3     20    118  0.169492         -4.760883\n",
      "49812   122190          3     19     65  0.292308          5.360531\n",
      "\n",
      "[19922 rows x 6 columns]\n"
     ]
    },
    {
     "name": "stderr",
     "output_type": "stream",
     "text": [
      "/tmp/ipykernel_310/2521860855.py:2: SettingWithCopyWarning: \n",
      "A value is trying to be set on a copy of a slice from a DataFrame.\n",
      "Try using .loc[row_indexer,col_indexer] = value instead\n",
      "\n",
      "See the caveats in the documentation: https://pandas.pydata.org/pandas-docs/stable/user_guide/indexing.html#returning-a-view-versus-a-copy\n",
      "  filter_df_0_and_3['linearized_likes'] = filter_df_0_and_3['likes'] - CTR_0 * filter_df_0_and_3['views']\n"
     ]
    }
   ],
   "source": [
    "#считаю метрику linearized_likes\n",
    "filter_df_0_and_3['linearized_likes'] = filter_df_0_and_3['likes'] - CTR_0 * filter_df_0_and_3['views']\n",
    "print(filter_df_0_and_3)"
   ]
  },
  {
   "cell_type": "code",
   "execution_count": 45,
   "id": "c33a2cd7-566a-4b4f-92c7-3b5db5a20340",
   "metadata": {},
   "outputs": [
    {
     "data": {
      "text/plain": [
       "Ttest_indResult(statistic=-16.18623003293285, pvalue=1.4918137745324434e-58)"
      ]
     },
     "execution_count": 45,
     "metadata": {},
     "output_type": "execute_result"
    }
   ],
   "source": [
    "#t-test по метрике linearized_likes\n",
    "stats.ttest_ind(filter_df_0_and_3[filter_df_0_and_3.exp_group == 0].linearized_likes,\n",
    "               filter_df_0_and_3[filter_df_0_and_3.exp_group == 3].linearized_likes, equal_var = False)"
   ]
  },
  {
   "cell_type": "markdown",
   "id": "0d8d94d9-6e6a-4652-a3cc-119d0ff1655a",
   "metadata": {},
   "source": [
    "!!!p-value в t-test < 0.05, что говорит о различиях в группах 0 и 3"
   ]
  },
  {
   "cell_type": "code",
   "execution_count": 48,
   "id": "e1dece40-d696-454a-a1de-9060f8ab4bcf",
   "metadata": {},
   "outputs": [
    {
     "data": {
      "image/png": "[encoded data removed]",
      "text/plain": [
       "<Figure size 800x640 with 1 Axes>"
      ]
     },
     "metadata": {},
     "output_type": "display_data"
    }
   ],
   "source": [
    "#Визуализирую распределения linearized_likes по группам 0 и 3\n",
    "sns.set(rc={'figure.figsize':(10, 8), 'figure.dpi': 80})\n",
    "j = sns.histplot(data = filter_df_0_and_3, x = 'linearized_likes', hue = 'exp_group', palette = ['red','gold'], alpha = 0.6, kde = False)"
   ]
  },
  {
   "cell_type": "markdown",
   "id": "27a08f64-8b1a-4603-8ea3-17acf05959e9",
   "metadata": {},
   "source": [
    "Графики прокрасились и распределения 'на глаз' стали более равномерными"
   ]
  },
  {
   "cell_type": "markdown",
   "id": "35b109ee-f7cc-4307-a759-951fe27b21f0",
   "metadata": {},
   "source": [
    "## Вывод: и по метрике CTR и по метрике linearized_likes с помощью t-test были обнаружены значимые различия в группе, но во втором тесте результат показал более значимый результат, p-value во 2 тесте значительно меньше p-value 1 теста"
   ]
  },
  {
   "cell_type": "markdown",
   "id": "d329643b-c721-42f2-9176-c4d207427ff4",
   "metadata": {},
   "source": [
    "## Анализирую тест между группами 1 и 2 по метрике линеаризованных лайков."
   ]
  },
  {
   "cell_type": "code",
   "execution_count": 51,
   "id": "5ae8eb09-73ce-4a8d-81fc-7b260cd3c9d4",
   "metadata": {},
   "outputs": [
    {
     "name": "stdout",
     "output_type": "stream",
     "text": [
      "       user_id  exp_group  likes  views       ctr\n",
      "0        18392          1      7     32  0.218750\n",
      "3       131473          2      9    108  0.083333\n",
      "5        32420          2     13     44  0.295455\n",
      "6        24239          2     40     90  0.444444\n",
      "8        27443          1     22    109  0.201835\n",
      "...        ...        ...    ...    ...       ...\n",
      "49802    21697          1      2     22  0.090909\n",
      "49804     1232          2      5     96  0.052083\n",
      "49807   120653          1      8     42  0.190476\n",
      "49811   132567          1     52    326  0.159509\n",
      "49813    17310          2      9     82  0.109756\n",
      "\n",
      "[19897 rows x 5 columns]\n"
     ]
    }
   ],
   "source": [
    "#отфильтровал строки для групп 1 и 2\n",
    "filter_df_1_and_2 = df[(df['exp_group'] == 1) | (df['exp_group'] == 2)]\n",
    "print(filter_df_1_and_2)"
   ]
  },
  {
   "cell_type": "code",
   "execution_count": 52,
   "id": "adafc087-e743-41d2-a3e2-528ca0a0a149",
   "metadata": {},
   "outputs": [
    {
     "data": {
      "image/png": "[encoded data removed]",
      "text/plain": [
       "<Figure size 800x640 with 1 Axes>"
      ]
     },
     "metadata": {},
     "output_type": "display_data"
    }
   ],
   "source": [
    "#Визуализирую распределения CTR по группам 0 и 3\n",
    "sns.set(rc={'figure.figsize':(10, 8), 'figure.dpi': 80})\n",
    "g = sns.histplot(data = filter_df_1_and_2, x = 'ctr', hue = 'exp_group', palette = ['orange','violet'], alpha = 0.6, kde = False)"
   ]
  },
  {
   "cell_type": "markdown",
   "id": "3b588da1-eb5f-4621-8384-8f9606d4c76d",
   "metadata": {},
   "source": [
    "!!!Распределение в 1ой группе равномерное, а в группе 2 - \"двугорбое\", графики прокрасились"
   ]
  },
  {
   "cell_type": "code",
   "execution_count": 53,
   "id": "6d4d9732-7889-4ec5-b206-78ee5f5c7058",
   "metadata": {},
   "outputs": [
    {
     "name": "stdout",
     "output_type": "stream",
     "text": [
      "       user_id  exp_group  likes  views       ctr\n",
      "0        18392          1      7     32  0.218750\n",
      "8        27443          1     22    109  0.201835\n",
      "10       27131          1     12     89  0.134831\n",
      "13      115796          1      6     57  0.105263\n",
      "15      123999          1     22     92  0.239130\n",
      "...        ...        ...    ...    ...       ...\n",
      "49796    30210          1     11     51  0.215686\n",
      "49800    22025          1     31    160  0.193750\n",
      "49802    21697          1      2     22  0.090909\n",
      "49807   120653          1      8     42  0.190476\n",
      "49811   132567          1     52    326  0.159509\n",
      "\n",
      "[10020 rows x 5 columns]\n"
     ]
    }
   ],
   "source": [
    "#отфильтровываю датафрйем для группы 0\n",
    "filter_df_1 = filter_df_1_and_2[filter_df_1_and_2['exp_group'] == 1]\n",
    "print(filter_df_1)"
   ]
  },
  {
   "cell_type": "code",
   "execution_count": 54,
   "id": "f1f424bf-fa96-4bc1-917a-70e258dd662b",
   "metadata": {},
   "outputs": [
    {
     "name": "stdout",
     "output_type": "stream",
     "text": [
      "       user_id  exp_group  likes  views       ctr\n",
      "3       131473          2      9    108  0.083333\n",
      "5        32420          2     13     44  0.295455\n",
      "6        24239          2     40     90  0.444444\n",
      "16      118619          2      8     65  0.123077\n",
      "19       10098          2      3      9  0.333333\n",
      "...        ...        ...    ...    ...       ...\n",
      "49794     2808          2      1      7  0.142857\n",
      "49797   135232          2      8     72  0.111111\n",
      "49801    19894          2      1      6  0.166667\n",
      "49804     1232          2      5     96  0.052083\n",
      "49813    17310          2      9     82  0.109756\n",
      "\n",
      "[9877 rows x 5 columns]\n"
     ]
    }
   ],
   "source": [
    "#отфильтровываю датафрйем для группы 2\n",
    "filter_df_2 = filter_df_1_and_2[filter_df_1_and_2['exp_group'] == 2]\n",
    "print(filter_df_2)"
   ]
  },
  {
   "cell_type": "markdown",
   "id": "370b07fa-37bc-4faa-b43c-4c700b38f1e4",
   "metadata": {},
   "source": [
    "## Группа 1 - контрольная группа, группа 2 - тестовая"
   ]
  },
  {
   "cell_type": "code",
   "execution_count": 55,
   "id": "8830caab-5729-41f7-b5ae-d63186789d0a",
   "metadata": {},
   "outputs": [
    {
     "data": {
      "text/plain": [
       "Ttest_indResult(statistic=0.40514919131127564, pvalue=0.685373331140751)"
      ]
     },
     "execution_count": 55,
     "metadata": {},
     "output_type": "execute_result"
    }
   ],
   "source": [
    "#проведу сначала t-тест по CTR\n",
    "stats.ttest_ind(filter_df_1_and_2[filter_df_1_and_2.exp_group == 1].ctr,\n",
    "          filter_df_1_and_2[filter_df_1_and_2.exp_group == 2].ctr,\n",
    "          equal_var=False)"
   ]
  },
  {
   "cell_type": "markdown",
   "id": "6dff1a84-d055-4b48-9e4b-61755a8670ee",
   "metadata": {},
   "source": [
    "t-test показал p-value > 0.05, но это может быть неверным результатом, так как распределение для группы 2 не похоже на равномерное, нужно провести еще тест"
   ]
  },
  {
   "cell_type": "code",
   "execution_count": 56,
   "id": "ff7bf2ed-67b1-4d0a-8d59-ca6f8a0599a5",
   "metadata": {},
   "outputs": [
    {
     "name": "stdout",
     "output_type": "stream",
     "text": [
      "0.2096041628394293\n"
     ]
    }
   ],
   "source": [
    "#посчитаю CTR для контрольной группы\n",
    "CTR_1 = filter_df_1['likes'].sum() / filter_df_1['views'].sum()\n",
    "print(CTR_1)"
   ]
  },
  {
   "cell_type": "code",
   "execution_count": 57,
   "id": "96125877-e3d6-4feb-b152-eae9150615d8",
   "metadata": {},
   "outputs": [
    {
     "name": "stdout",
     "output_type": "stream",
     "text": [
      "       user_id  exp_group  likes  views       ctr  linearized_likes\n",
      "0        18392          1      7     32  0.218750          0.292667\n",
      "3       131473          2      9    108  0.083333        -13.637250\n",
      "5        32420          2     13     44  0.295455          3.777417\n",
      "6        24239          2     40     90  0.444444         21.135625\n",
      "8        27443          1     22    109  0.201835         -0.846854\n",
      "...        ...        ...    ...    ...       ...               ...\n",
      "49802    21697          1      2     22  0.090909         -2.611292\n",
      "49804     1232          2      5     96  0.052083        -15.122000\n",
      "49807   120653          1      8     42  0.190476         -0.803375\n",
      "49811   132567          1     52    326  0.159509        -16.330957\n",
      "49813    17310          2      9     82  0.109756         -8.187541\n",
      "\n",
      "[19897 rows x 6 columns]\n"
     ]
    },
    {
     "name": "stderr",
     "output_type": "stream",
     "text": [
      "/tmp/ipykernel_310/1852183540.py:2: SettingWithCopyWarning: \n",
      "A value is trying to be set on a copy of a slice from a DataFrame.\n",
      "Try using .loc[row_indexer,col_indexer] = value instead\n",
      "\n",
      "See the caveats in the documentation: https://pandas.pydata.org/pandas-docs/stable/user_guide/indexing.html#returning-a-view-versus-a-copy\n",
      "  filter_df_1_and_2['linearized_likes'] = filter_df_1_and_2['likes'] - CTR_1 * filter_df_1_and_2['views']\n"
     ]
    }
   ],
   "source": [
    "#считаю метрику linearized_likes\n",
    "filter_df_1_and_2['linearized_likes'] = filter_df_1_and_2['likes'] - CTR_1 * filter_df_1_and_2['views']\n",
    "print(filter_df_1_and_2)"
   ]
  },
  {
   "cell_type": "code",
   "execution_count": 58,
   "id": "69731d53-800d-424b-9234-d388277b0929",
   "metadata": {},
   "outputs": [
    {
     "data": {
      "text/plain": [
       "Ttest_indResult(statistic=5.936377101934478, pvalue=2.9805064038668383e-09)"
      ]
     },
     "execution_count": 58,
     "metadata": {},
     "output_type": "execute_result"
    }
   ],
   "source": [
    "#t-test по метрике linearized_likes\n",
    "stats.ttest_ind(filter_df_1_and_2[filter_df_1_and_2.exp_group == 1].linearized_likes,\n",
    "               filter_df_1_and_2[filter_df_1_and_2.exp_group == 2].linearized_likes, equal_var = False)"
   ]
  },
  {
   "cell_type": "markdown",
   "id": "8a5d2154-a549-46cb-9220-def5093173c1",
   "metadata": {},
   "source": [
    "!!!Значение p-value < 0.05, что говорит о различиях в группах 1 и 2"
   ]
  },
  {
   "cell_type": "code",
   "execution_count": 61,
   "id": "50ae2d53-692d-473f-9154-c9ca703a2a9c",
   "metadata": {},
   "outputs": [
    {
     "data": {
      "image/png": "[encoded data removed]",
      "text/plain": [
       "<Figure size 800x640 with 1 Axes>"
      ]
     },
     "metadata": {},
     "output_type": "display_data"
    }
   ],
   "source": [
    "#Визуализирую распределения linearized_likes по группам 1 и 2\n",
    "sns.set(rc={'figure.figsize':(10, 8), 'figure.dpi': 80})\n",
    "j = sns.histplot(data = filter_df_1_and_2, x = 'linearized_likes', hue = 'exp_group', palette = ['black','gold'], alpha = 0.6, kde = False)"
   ]
  },
  {
   "cell_type": "markdown",
   "id": "a1c64e14-50f2-4789-aa97-79e25b8ba117",
   "metadata": {},
   "source": [
    "!!!Графики прокрасились, распределение 2 группы также  остается \"двугорбым\", но в целом графики стали более равномерными"
   ]
  },
  {
   "cell_type": "markdown",
   "id": "59adf536-5362-46f5-9075-ef04d11a0907",
   "metadata": {},
   "source": [
    "## Вывод: t-test по метрике CTR дал ложный результат, что различий в группах 1 и 2 нет и p-value > 0.05. t-test по метрике linearized_likes показал значимое различие в группах 1 и 2, показава p-value < 0.05."
   ]
  },
  {
   "cell_type": "markdown",
   "id": "07d19d23-b043-4121-bd5c-e92fcf6cae8a",
   "metadata": {},
   "source": [
    "## Вывод по всей работе: я провел 2 t-test по метрике CTR на группах 0, 3 и на группах 1, 2, а также 2 t-test по метрике linearized_likes на группах 0, 3 и на группах 1, 2. В первом случае по группам 0 и 3 оба т-теста по обеим метрикам показали различия в группах, во втором случае по группам 1 и 2 т-тест по метрике CTR не увидел различий в группах, а т-тест по метрике linearized_likes показал значимые различия в двух группах. Можно сделать вывод, что метод анализа тестов над метриками-отношениями показывает более точные результаты."
   ]
  }
 ],
 "metadata": {
  "kernelspec": {
   "display_name": "Python 3 (ipykernel)",
   "language": "python",
   "name": "python3"
  },
  "language_info": {
   "codemirror_mode": {
    "name": "ipython",
    "version": 3
   },
   "file_extension": ".py",
   "mimetype": "text/x-python",
   "name": "python",
   "nbconvert_exporter": "python",
   "pygments_lexer": "ipython3",
   "version": "3.8.10"
  }
 },
 "nbformat": 4,
 "nbformat_minor": 5
}
