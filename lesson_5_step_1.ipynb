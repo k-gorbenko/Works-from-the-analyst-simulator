{
 "cells": [
  {
   "cell_type": "code",
   "execution_count": 12,
   "id": "d2bba323-bdd3-4b4c-bc6c-7009ee94283e",
   "metadata": {},
   "outputs": [],
   "source": [
    "import pandas as pd\n",
    "import numpy as  np\n",
    "import matplotlib.pyplot as plt\n",
    "import seaborn as sns\n",
    "import pandahouse as ph\n",
    "import hashlib\n",
    "import swifter\n",
    "from scipy import stats"
   ]
  },
  {
   "cell_type": "code",
   "execution_count": 13,
   "id": "be35e0a3-fb77-460f-b552-760c24568484",
   "metadata": {},
   "outputs": [],
   "source": [
    "connection = {\n",
    "    'host': 'https://clickhouse.lab.karpov.courses',\n",
    "    'password':'dpo_python_2020',\n",
    "    'user':'student',\n",
    "    'database':'simulator_20240120',\n",
    "}\n",
    "\n",
    "q = '''\n",
    "select user_id,\n",
    "    exp_group,\n",
    "    sum(action = 'like') as likes,\n",
    "    sum(action = 'view') as views,\n",
    "    likes/views as ctr\n",
    "from {db}.feed_actions\n",
    "where (toDate(time) >= '2023-12-22' and toDate(time) <= '2023-12-28') and (exp_group IN [2, 3])\n",
    "group by exp_group, user_id\n",
    "'''\n",
    "\n",
    "df = ph.read_clickhouse(q, connection=connection)"
   ]
  },
  {
   "cell_type": "code",
   "execution_count": 14,
   "id": "078a2701-231d-4784-ac73-4d41d12dd234",
   "metadata": {},
   "outputs": [
    {
     "name": "stdout",
     "output_type": "stream",
     "text": [
      "       user_id  exp_group  likes  views       ctr\n",
      "0       115383          3     38    248  0.153226\n",
      "1        10326          3     24    132  0.181818\n",
      "2       123580          3     25    122  0.204918\n",
      "3       131473          2     19     98  0.193878\n",
      "4        23985          2     12     44  0.272727\n",
      "...        ...        ...    ...    ...       ...\n",
      "16782   122008          3     20    123  0.162602\n",
      "16783    25383          2      2     18  0.111111\n",
      "16784   122190          3     15     56  0.267857\n",
      "16785   108927          2     16     51  0.313725\n",
      "16786    17310          2     24     75  0.320000\n",
      "\n",
      "[16787 rows x 5 columns]\n"
     ]
    }
   ],
   "source": [
    "print(df)"
   ]
  },
  {
   "cell_type": "markdown",
   "id": "e2662edf-61b9-4e00-9a07-a5241e2c38e4",
   "metadata": {},
   "source": [
    "## Проверяю равенство записей в группах 2 и 3"
   ]
  },
  {
   "cell_type": "code",
   "execution_count": 15,
   "id": "87f71b17-c07e-477b-bb7c-0dd1028315f1",
   "metadata": {},
   "outputs": [
    {
     "data": {
      "text/plain": [
       "exp_group\n",
       "2    8362\n",
       "3    8425\n",
       "Name: user_id, dtype: int64"
      ]
     },
     "execution_count": 15,
     "metadata": {},
     "output_type": "execute_result"
    }
   ],
   "source": [
    "#абсолютное количество\n",
    "df.groupby('exp_group')['user_id'].nunique()"
   ]
  },
  {
   "cell_type": "code",
   "execution_count": 16,
   "id": "ea70c106-740f-4785-8439-884a4f8c4b1e",
   "metadata": {},
   "outputs": [],
   "source": [
    "#в процентах\n",
    "share_2 = (df[df['exp_group'] == 2]['user_id'].count() / df['user_id'].count()) * 100\n",
    "share_3 = (df[df['exp_group'] == 3]['user_id'].count() / df['user_id'].count()) * 100"
   ]
  },
  {
   "cell_type": "code",
   "execution_count": 17,
   "id": "2c5a03cc-7781-48dd-be39-69450eba3d76",
   "metadata": {},
   "outputs": [
    {
     "name": "stdout",
     "output_type": "stream",
     "text": [
      "49.81235479835587\n",
      "50.18764520164412\n"
     ]
    }
   ],
   "source": [
    "print(share_2)\n",
    "print(share_3)"
   ]
  },
  {
   "cell_type": "markdown",
   "id": "8dcd62f2-8022-4e41-ba1e-07e4057d5ca6",
   "metadata": {},
   "source": [
    "Количество пользователей в двух группах почти одинаковое"
   ]
  },
  {
   "cell_type": "markdown",
   "id": "34e8d9fe-ea3f-43d0-ae2e-6ca07c6b7c6c",
   "metadata": {},
   "source": [
    "## Визуализирую на гистограмме распределения CTR по группам"
   ]
  },
  {
   "cell_type": "code",
   "execution_count": 19,
   "id": "36b10294-7efd-4b91-b779-38069c0889b2",
   "metadata": {},
   "outputs": [
    {
     "data": {
      "image/png": "[encoded data removed]",
      "text/plain": [
       "<Figure size 800x640 with 1 Axes>"
      ]
     },
     "metadata": {},
     "output_type": "display_data"
    }
   ],
   "source": [
    "sns.set(rc={'figure.figsize':(10, 8), 'figure.dpi': 80})\n",
    "g = sns.histplot(data = df, x = 'ctr', hue = 'exp_group', palette = ['gold','violet'], alpha = 0.5, kde = False)"
   ]
  },
  {
   "cell_type": "markdown",
   "id": "6fc93877-1c8c-41eb-8ce9-13b3083cfa54",
   "metadata": {},
   "source": [
    "!!! По визуализации можно примерно оценить, что распределения более-менее одинаковые"
   ]
  },
  {
   "cell_type": "markdown",
   "id": "9d4b9c6c-008d-4844-89b9-b7ec44d24537",
   "metadata": {},
   "source": [
    "## Разбиваю на два датафрейма"
   ]
  },
  {
   "cell_type": "code",
   "execution_count": 21,
   "id": "e549df05-fbbc-4876-aaf2-eca7b08ccd44",
   "metadata": {},
   "outputs": [],
   "source": [
    "g_2 = df[df['exp_group'] == 2]\n",
    "g_3 = df[df['exp_group'] == 3]"
   ]
  },
  {
   "cell_type": "code",
   "execution_count": 22,
   "id": "d49a5e0e-9d47-4f36-b260-187e105561a0",
   "metadata": {},
   "outputs": [
    {
     "name": "stdout",
     "output_type": "stream",
     "text": [
      "       user_id  exp_group  likes  views       ctr\n",
      "3       131473          2     19     98  0.193878\n",
      "4        23985          2     12     44  0.272727\n",
      "5        24523          2      2     10  0.200000\n",
      "6        24239          2     10     41  0.243902\n",
      "8       127588          2     14     87  0.160920\n",
      "...        ...        ...    ...    ...       ...\n",
      "16780    25071          2      5     15  0.333333\n",
      "16781    17146          2     23    194  0.118557\n",
      "16783    25383          2      2     18  0.111111\n",
      "16785   108927          2     16     51  0.313725\n",
      "16786    17310          2     24     75  0.320000\n",
      "\n",
      "[8362 rows x 5 columns]\n"
     ]
    }
   ],
   "source": [
    "print(g_2)"
   ]
  },
  {
   "cell_type": "code",
   "execution_count": 23,
   "id": "6585c0d3-2b37-4d4a-b8dd-a2dab7dc8918",
   "metadata": {},
   "outputs": [
    {
     "name": "stdout",
     "output_type": "stream",
     "text": [
      "       user_id  exp_group  likes  views       ctr\n",
      "0       115383          3     38    248  0.153226\n",
      "1        10326          3     24    132  0.181818\n",
      "2       123580          3     25    122  0.204918\n",
      "7        19647          3      4     31  0.129032\n",
      "12      107670          3     17     94  0.180851\n",
      "...        ...        ...    ...    ...       ...\n",
      "16774   122758          3     18     85  0.211765\n",
      "16777    13781          3      6     35  0.171429\n",
      "16778   130651          3     10     75  0.133333\n",
      "16782   122008          3     20    123  0.162602\n",
      "16784   122190          3     15     56  0.267857\n",
      "\n",
      "[8425 rows x 5 columns]\n"
     ]
    }
   ],
   "source": [
    "print(g_3)"
   ]
  },
  {
   "cell_type": "markdown",
   "id": "b937660d-ed2b-4946-a511-f8d25458282e",
   "metadata": {},
   "source": [
    "## Провожу симуляцию 10000 А-А тестов"
   ]
  },
  {
   "cell_type": "code",
   "execution_count": 24,
   "id": "997f8392-8746-44c1-ad4d-329ad2fcd19e",
   "metadata": {},
   "outputs": [],
   "source": [
    "p_values = []"
   ]
  },
  {
   "cell_type": "code",
   "execution_count": 25,
   "id": "94a21cb7-d9c0-4e06-aa50-f7a7dc717519",
   "metadata": {},
   "outputs": [],
   "source": [
    "for _ in range(10000):\n",
    "    g_2_new = g_2.ctr.sample(500, replace = False)\n",
    "    g_3_new = g_3.ctr.sample(500, replace = False)\n",
    "    p_value = stats.ttest_ind(g_2_new, g_3_new, equal_var = False)[1]\n",
    "    p_values.append(p_value)"
   ]
  },
  {
   "cell_type": "code",
   "execution_count": 26,
   "id": "002f9743-6dc7-4bbd-b294-14464ca098bb",
   "metadata": {},
   "outputs": [],
   "source": [
    "p_values = pd.Series(p_values)"
   ]
  },
  {
   "cell_type": "code",
   "execution_count": 27,
   "id": "b86d8f6f-1156-4ae3-b877-1528317755e0",
   "metadata": {},
   "outputs": [
    {
     "name": "stdout",
     "output_type": "stream",
     "text": [
      "0       0.819829\n",
      "1       0.154388\n",
      "2       0.678567\n",
      "3       0.417723\n",
      "4       0.640052\n",
      "          ...   \n",
      "9995    0.375526\n",
      "9996    0.010071\n",
      "9997    0.976632\n",
      "9998    0.362834\n",
      "9999    0.445421\n",
      "Length: 10000, dtype: float64\n"
     ]
    }
   ],
   "source": [
    "print(p_values)"
   ]
  },
  {
   "cell_type": "markdown",
   "id": "667140c6-3919-4dd8-9408-7da2770dc522",
   "metadata": {},
   "source": [
    "## Строю гистограмму распределения получившихся 10000 p-values"
   ]
  },
  {
   "cell_type": "code",
   "execution_count": 41,
   "id": "c3be7357-fe76-4f0b-a989-29158ee2c173",
   "metadata": {},
   "outputs": [
    {
     "data": {
      "image/png": "[encoded data removed]",
      "text/plain": [
       "<Figure size 640x480 with 1 Axes>"
      ]
     },
     "metadata": {},
     "output_type": "display_data"
    }
   ],
   "source": [
    "fig, ax = plt.subplots(figsize=(8, 6), dpi=80)\n",
    "sns.histplot(p_values, ax=ax, color = 'orange', alpha = 1.0)\n",
    "\n",
    "\n",
    "plt.xlabel('P-values')\n",
    "plt.ylabel('Количество')\n",
    "plt.title('Распределение P-values')\n",
    "\n",
    "\n",
    "plt.show()"
   ]
  },
  {
   "cell_type": "markdown",
   "id": "8b509fb5-0cfa-4e24-92f9-a7403f894040",
   "metadata": {},
   "source": [
    "!!!Распределение выглядит равномерным"
   ]
  },
  {
   "cell_type": "markdown",
   "id": "2a9f2ac4-6df4-4945-9df5-7513f3805f25",
   "metadata": {},
   "source": [
    "## Считаю процент p-value, который меньше или равен 0.05"
   ]
  },
  {
   "cell_type": "code",
   "execution_count": 42,
   "id": "beca4c8e-37cb-4b6d-8f12-b583acf34309",
   "metadata": {},
   "outputs": [
    {
     "name": "stdout",
     "output_type": "stream",
     "text": [
      "4.14\n"
     ]
    }
   ],
   "source": [
    "cnt = 0\n",
    "for i in p_values:\n",
    "    if i <= 0.05:\n",
    "        cnt += 1\n",
    "procent = (cnt / len(p_values)) * 100\n",
    "print(procent)"
   ]
  },
  {
   "cell_type": "markdown",
   "id": "3966cd7a-e34e-440d-9f8b-45093dcd631a",
   "metadata": {},
   "source": [
    "!!!В 4.14% случаев p-values оказывается меньше, либо равным 0.05"
   ]
  },
  {
   "cell_type": "markdown",
   "id": "3c8887f5-ab82-44aa-9500-8f24275f292a",
   "metadata": {},
   "source": [
    "### Я провел симуляцию 10000 А-А тестов с данными из групп 2 и 3 в периоде с 22.12.23 по 28.12.23. Во время каждой симуляции А-А теста сформировал подвыборки без повторения в 500 пользователей и сравнил их с помощью t-теста, визуализировал распределения CTR по группам и распределение p-values по завершении симуляции, посчитал процент p-value, который меньше или равен 0.05. На основании полученных результов можно сделать вывод, что наша система сплитования работает корректно."
   ]
  }
 ],
 "metadata": {
  "kernelspec": {
   "display_name": "Python 3 (ipykernel)",
   "language": "python",
   "name": "python3"
  },
  "language_info": {
   "codemirror_mode": {
    "name": "ipython",
    "version": 3
   },
   "file_extension": ".py",
   "mimetype": "text/x-python",
   "name": "python",
   "nbconvert_exporter": "python",
   "pygments_lexer": "ipython3",
   "version": "3.8.10"
  }
 },
 "nbformat": 4,
 "nbformat_minor": 5
}
