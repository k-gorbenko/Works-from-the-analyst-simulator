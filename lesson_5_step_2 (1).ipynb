{
 "cells": [
  {
   "cell_type": "code",
   "execution_count": 51,
   "id": "2038ed88-7d35-4bdb-a873-e0da4a9bb00f",
   "metadata": {},
   "outputs": [],
   "source": [
    "import pandas as pd\n",
    "import numpy as  np\n",
    "import matplotlib.pyplot as plt\n",
    "import seaborn as sns\n",
    "import pandahouse as ph\n",
    "import hashlib\n",
    "import swifter\n",
    "from scipy import stats"
   ]
  },
  {
   "cell_type": "code",
   "execution_count": 52,
   "id": "43a57587-2d0a-4482-8e69-09adf4153628",
   "metadata": {},
   "outputs": [],
   "source": [
    "connection = {'host': 'https://clickhouse.lab.karpov.courses',\n",
    "'database':'simulator_20240120',\n",
    "'user':'student',\n",
    "'password':'dpo_python_2020'\n",
    "}\n",
    "\n",
    "q = \"\"\"\n",
    "SELECT exp_group, \n",
    "    user_id,\n",
    "    sum(action = 'like') as likes,\n",
    "    sum(action = 'view') as views,\n",
    "    likes/views as ctr\n",
    "FROM {db}.feed_actions \n",
    "WHERE toDate(time) between '2023-12-29' and '2024-01-04'\n",
    "    and exp_group in (1,2)\n",
    "GROUP BY exp_group, user_id\n",
    "\"\"\"\n",
    "\n",
    "df = ph.read_clickhouse(q, connection=connection)"
   ]
  },
  {
   "cell_type": "code",
   "execution_count": 53,
   "id": "d431f07e-d25c-406f-b895-8ee64e01e6c9",
   "metadata": {},
   "outputs": [
    {
     "name": "stdout",
     "output_type": "stream",
     "text": [
      "       exp_group  user_id  likes  views       ctr\n",
      "0              1   109963      3     15  0.200000\n",
      "1              1    26117     32    141  0.226950\n",
      "2              1   138232     18     73  0.246575\n",
      "3              1    18392      7     32  0.218750\n",
      "4              1    26295     39    141  0.276596\n",
      "...          ...      ...    ...    ...       ...\n",
      "19892          2    17146      0     10  0.000000\n",
      "19893          1    30872     11     59  0.186441\n",
      "19894          2    25383     42    127  0.330709\n",
      "19895          2   139020     17     41  0.414634\n",
      "19896          2    17310      9     82  0.109756\n",
      "\n",
      "[19897 rows x 5 columns]\n"
     ]
    }
   ],
   "source": [
    "print(df)"
   ]
  },
  {
   "cell_type": "markdown",
   "id": "7a7cf292-e26c-4f27-8620-f5a5a2f2b937",
   "metadata": {},
   "source": [
    "# Сформулирую гипотезу:\n",
    "## Н0 - CTR в двух группах одинаковые\n",
    "## Н1 - CTR в двух группах не равны\n",
    "\n",
    "## группа 1 - контрольная группа\n",
    "## группа 2 - тестовая группа"
   ]
  },
  {
   "cell_type": "markdown",
   "id": "1ed9b127-56ba-463f-8e3b-c6dd401c3fad",
   "metadata": {},
   "source": [
    "## Проверяю равенство записей в группах 1 и 2"
   ]
  },
  {
   "cell_type": "code",
   "execution_count": 54,
   "id": "452c7667-a2b8-435b-9001-39576b24ae2e",
   "metadata": {},
   "outputs": [
    {
     "data": {
      "text/plain": [
       "exp_group\n",
       "1    10020\n",
       "2     9877\n",
       "Name: user_id, dtype: int64"
      ]
     },
     "execution_count": 54,
     "metadata": {},
     "output_type": "execute_result"
    }
   ],
   "source": [
    "#в абсолютном количестве\n",
    "df.groupby('exp_group')['user_id'].nunique()"
   ]
  },
  {
   "cell_type": "code",
   "execution_count": 55,
   "id": "3d15d61a-a800-4ee6-ab02-cd9d00399040",
   "metadata": {},
   "outputs": [
    {
     "name": "stdout",
     "output_type": "stream",
     "text": [
      "50.35935065587777\n",
      "49.64064934412223\n"
     ]
    }
   ],
   "source": [
    "#в процентах\n",
    "share_1 = (df[df['exp_group'] == 1]['user_id'].count() / df['user_id'].count()) * 100\n",
    "share_2 = (df[df['exp_group'] == 2]['user_id'].count() / df['user_id'].count()) * 100\n",
    "print(share_1)\n",
    "print(share_2)"
   ]
  },
  {
   "cell_type": "markdown",
   "id": "05f845e9-1c30-41fb-a103-7bc7856712bf",
   "metadata": {},
   "source": [
    "Количество пользователей в группах почти одинаковое"
   ]
  },
  {
   "cell_type": "markdown",
   "id": "84e77505-d64b-4dbe-96d7-c82fcfd0e26a",
   "metadata": {},
   "source": [
    "## Визуализирую распределения групп"
   ]
  },
  {
   "cell_type": "code",
   "execution_count": 17,
   "id": "403fe5bb-6c97-4a4a-b7cb-11329d8967f2",
   "metadata": {},
   "outputs": [
    {
     "data": {
      "image/png": "[encoded data removed]",
      "text/plain": [
       "<Figure size 640x480 with 1 Axes>"
      ]
     },
     "metadata": {},
     "output_type": "display_data"
    }
   ],
   "source": [
    "sns.set(rc={'figure.figsize':(8, 6), 'figure.dpi': 80})\n",
    "g = sns.histplot(data = df, x = 'ctr', hue = 'exp_group', palette = ['gold','violet'], alpha = 0.6, kde = False)"
   ]
  },
  {
   "cell_type": "markdown",
   "id": "25f7b732-742d-44f1-8ee9-1efd3ee9b28a",
   "metadata": {},
   "source": [
    "Распределение 1ой группы похоже на нормальное, а распределение 2ой группы - двугорбое"
   ]
  },
  {
   "cell_type": "markdown",
   "id": "fbe0b7e4-b34c-4093-8cef-b79def4a6961",
   "metadata": {},
   "source": [
    "## T-test"
   ]
  },
  {
   "cell_type": "code",
   "execution_count": 18,
   "id": "b90746b7-1c43-46f9-bd65-d3076450e060",
   "metadata": {},
   "outputs": [
    {
     "data": {
      "text/plain": [
       "Ttest_indResult(statistic=0.4051491913112757, pvalue=0.685373331140751)"
      ]
     },
     "execution_count": 18,
     "metadata": {},
     "output_type": "execute_result"
    }
   ],
   "source": [
    "stats.ttest_ind(df[df['exp_group'] == 1].ctr, df[df['exp_group'] == 2].ctr, equal_var = False )"
   ]
  },
  {
   "cell_type": "markdown",
   "id": "80ac02b4-43cc-4303-8b9e-18e8ed2f5df0",
   "metadata": {},
   "source": [
    "p-value равен 0.68, что не позволяет отклонить нулевую гипотезу"
   ]
  },
  {
   "cell_type": "markdown",
   "id": "4a138c12-8d6f-4209-b157-2ae071c7acbc",
   "metadata": {},
   "source": [
    "## тест Манна_Уитни"
   ]
  },
  {
   "cell_type": "code",
   "execution_count": 19,
   "id": "51e7ba78-7994-492c-88a5-64c10dffbf36",
   "metadata": {},
   "outputs": [
    {
     "data": {
      "text/plain": [
       "MannwhitneyuResult(statistic=55189913.0, pvalue=4.632205841806026e-45)"
      ]
     },
     "execution_count": 19,
     "metadata": {},
     "output_type": "execute_result"
    }
   ],
   "source": [
    "stats.mannwhitneyu(df[df['exp_group'] == 1].ctr, df[df['exp_group'] == 2].ctr, alternative = 'two-sided' )"
   ]
  },
  {
   "cell_type": "code",
   "execution_count": 20,
   "id": "4e05d820-e365-4958-bdaf-969c4c9ef3dc",
   "metadata": {},
   "outputs": [
    {
     "name": "stdout",
     "output_type": "stream",
     "text": [
      "В 55.91 % случаев A > B. Должно получиться около 50%\n"
     ]
    }
   ],
   "source": [
    "A_gt_B = 0\n",
    "for _ in range(10000):\n",
    "    A_gt_B+= df[df.exp_group == 1].ctr.sample().values[0] > df[df.exp_group == 2].ctr.sample().values[0]\n",
    "    \n",
    "print('В', A_gt_B/100, '% случаев A > B. Должно получиться около 50%')"
   ]
  },
  {
   "cell_type": "markdown",
   "id": "57f1f2e8-c92e-4482-967f-fe152a516153",
   "metadata": {},
   "source": [
    "Тест Манна-Уитни видит различия в группах и позволяет отклонить нулевую гипотезу"
   ]
  },
  {
   "cell_type": "markdown",
   "id": "313e564b-1abc-4e4b-8ce8-70010e68f5e4",
   "metadata": {},
   "source": [
    "## Я получил различия в двух тестах: результат t-теста не позволяет отклонить нулевую гипотезу, а тест Манна-Уитни - позволяет. Думаю, что t-test мог сработать неправильно,так как распределение CTR для 2 группы сильно отличается от нормального."
   ]
  },
  {
   "cell_type": "markdown",
   "id": "8d7da49b-aa29-4b5f-bda7-3458b6e579ed",
   "metadata": {},
   "source": [
    "## Сглаженный CTR"
   ]
  },
  {
   "cell_type": "code",
   "execution_count": 57,
   "id": "72ece666-b53f-48bf-b2fc-ca58eb9f51ff",
   "metadata": {},
   "outputs": [],
   "source": [
    "#функция сглаженного CTR\n",
    "def get_smothed_ctr(user_likes, user_views, global_ctr, alpha):\n",
    "    smothed_ctr = (user_likes + alpha * global_ctr) / (user_views + alpha)\n",
    "    return smothed_ctr"
   ]
  },
  {
   "cell_type": "code",
   "execution_count": 58,
   "id": "86dbc45e-2c14-4e7e-94b8-237938d8c1d3",
   "metadata": {},
   "outputs": [],
   "source": [
    "#считаю общегрупповые CTR для 1 и 2 групп\n",
    "global_ctr_1 = df[df.exp_group == 1].likes.sum()/df[df.exp_group == 1].views.sum()\n",
    "global_ctr_2 = df[df.exp_group == 2].likes.sum()/df[df.exp_group == 2].views.sum()"
   ]
  },
  {
   "cell_type": "markdown",
   "id": "af71752a-9fb8-4828-add1-406f649ece55",
   "metadata": {},
   "source": [
    "## Визуализирую распределения CTR для двух групп ДО и ПОСЛЕ сглаживания CTR"
   ]
  },
  {
   "cell_type": "code",
   "execution_count": 59,
   "id": "94b46bb0-3814-4ab7-bf12-0b470c339b60",
   "metadata": {},
   "outputs": [
    {
     "data": {
      "text/plain": [
       "<Axes: xlabel='ctr', ylabel='Count'>"
      ]
     },
     "execution_count": 59,
     "metadata": {},
     "output_type": "execute_result"
    },
    {
     "data": {
      "image/png": "[encoded data removed]",
      "text/plain": [
       "<Figure size 640x480 with 1 Axes>"
      ]
     },
     "metadata": {},
     "output_type": "display_data"
    }
   ],
   "source": [
    "#1 группа до сглаживания\n",
    "gr_1 = df[df.exp_group == 1].copy()\n",
    "sns.histplot(gr_1.ctr, \n",
    "             kde = False, color = 'b')"
   ]
  },
  {
   "cell_type": "code",
   "execution_count": 60,
   "id": "e861a95b-ec76-48bf-a8bc-7e1095b5e5a5",
   "metadata": {},
   "outputs": [
    {
     "data": {
      "text/plain": [
       "<Axes: xlabel='smothed_CTR', ylabel='Count'>"
      ]
     },
     "execution_count": 60,
     "metadata": {},
     "output_type": "execute_result"
    },
    {
     "data": {
      "image/png": "[encoded data removed]",
      "text/plain": [
       "<Figure size 640x480 with 1 Axes>"
      ]
     },
     "metadata": {},
     "output_type": "display_data"
    }
   ],
   "source": [
    "#1 группа после сглаживания\n",
    "gr_1['smothed_CTR'] = df.apply(lambda x: get_smothed_ctr (x['likes'], x['views'], global_ctr_1, 5), axis = 1)\n",
    "\n",
    "sns.histplot(gr_1.smothed_CTR, \n",
    "             kde = False, color = 'r')"
   ]
  },
  {
   "cell_type": "code",
   "execution_count": 61,
   "id": "633e7632-de33-4709-a088-3c6f781e3a31",
   "metadata": {},
   "outputs": [
    {
     "data": {
      "text/plain": [
       "<Axes: xlabel='ctr', ylabel='Count'>"
      ]
     },
     "execution_count": 61,
     "metadata": {},
     "output_type": "execute_result"
    },
    {
     "data": {
      "image/png": "[encoded data removed]",
      "text/plain": [
       "<Figure size 640x480 with 1 Axes>"
      ]
     },
     "metadata": {},
     "output_type": "display_data"
    }
   ],
   "source": [
    "#2 группа до сглаживания\n",
    "gr_2 = df[df.exp_group == 2].copy()\n",
    "sns.histplot(gr_2.ctr, kde = False, color = 'b')"
   ]
  },
  {
   "cell_type": "code",
   "execution_count": 62,
   "id": "582cfa68-8ace-4de7-90a4-a0fedc50a9b7",
   "metadata": {},
   "outputs": [
    {
     "data": {
      "text/plain": [
       "<Axes: xlabel='smothed_CTR', ylabel='Count'>"
      ]
     },
     "execution_count": 62,
     "metadata": {},
     "output_type": "execute_result"
    },
    {
     "data": {
      "image/png": "[encoded data removed]",
      "text/plain": [
       "<Figure size 640x480 with 1 Axes>"
      ]
     },
     "metadata": {},
     "output_type": "display_data"
    }
   ],
   "source": [
    "#2 группа после сглаживания\n",
    "gr_2['smothed_CTR'] = df.apply(lambda x: get_smothed_ctr (x['likes'], x['views'], global_ctr_2, 5), axis = 1)\n",
    "\n",
    "sns.histplot(gr_2.smothed_CTR, kde = False, color = 'r')"
   ]
  },
  {
   "cell_type": "markdown",
   "id": "3db25275-21b5-469d-9438-e571e8bac654",
   "metadata": {},
   "source": [
    "Для 1 группы сглаженный CTR сыграл положительно, избавив от \"пиков\" и приблизив распределение к нормальному.\n",
    "ДЛя 2 группы сглаженный CTR не сыграл особой роли."
   ]
  },
  {
   "cell_type": "markdown",
   "id": "ab515b67-a816-42d2-a510-b3fc688ba874",
   "metadata": {},
   "source": [
    "## Провожу тесты на сглаженном CTR"
   ]
  },
  {
   "cell_type": "code",
   "execution_count": 63,
   "id": "c1466d0f-3c27-458b-853f-e0e739825332",
   "metadata": {},
   "outputs": [
    {
     "data": {
      "text/plain": [
       "Ttest_indResult(statistic=1.9460491517027683, pvalue=0.05166679015318526)"
      ]
     },
     "execution_count": 63,
     "metadata": {},
     "output_type": "execute_result"
    }
   ],
   "source": [
    "#t-test на сглаженном CTR\n",
    "\n",
    "stats.ttest_ind(gr_1.smothed_CTR, gr_2.smothed_CTR, equal_var = False )"
   ]
  },
  {
   "cell_type": "code",
   "execution_count": 64,
   "id": "25035cce-5545-4afd-bd38-0fe2b1e3a1ae",
   "metadata": {},
   "outputs": [
    {
     "data": {
      "text/plain": [
       "MannwhitneyuResult(statistic=55528353.0, pvalue=2.396534039374286e-50)"
      ]
     },
     "execution_count": 64,
     "metadata": {},
     "output_type": "execute_result"
    }
   ],
   "source": [
    "#тест Манна-Уитни\n",
    "\n",
    "stats.mannwhitneyu(gr_1.smothed_CTR, gr_2.smothed_CTR, alternative = 'two-sided' )"
   ]
  },
  {
   "cell_type": "code",
   "execution_count": 65,
   "id": "d97ecc3f-f8f6-4b5a-be4a-e1450957e5d8",
   "metadata": {},
   "outputs": [
    {
     "name": "stdout",
     "output_type": "stream",
     "text": [
      "В 56.13 % случаев A > B. Должно получиться около 50%\n"
     ]
    }
   ],
   "source": [
    "A_gt_B = 0\n",
    "for _ in range(10000):\n",
    "    A_gt_B+= gr_1.smothed_CTR.sample().values[0] > gr_2.smothed_CTR.sample().values[0]\n",
    "    \n",
    "print('В', A_gt_B/100, '% случаев A > B. Должно получиться около 50%')"
   ]
  },
  {
   "cell_type": "markdown",
   "id": "83bc4d9d-97f9-4eea-8e5e-4f528bdbdb6d",
   "metadata": {},
   "source": [
    "## T-test показал значение p-value = 0.0516, что все еще немного более 0.05, что не позволяет отклонить нулевую гипотезу, но при этом это значительно меньше p-value в t-тесте без сглаживания CTR. Тест Манна-Уитни показал различия в группах, p-value даже меньше, чем в тесте без сглаживания."
   ]
  },
  {
   "cell_type": "markdown",
   "id": "204e1507-a0f1-4aed-a070-70be457f23a4",
   "metadata": {},
   "source": [
    "## Пуассновский бутстреп"
   ]
  },
  {
   "cell_type": "code",
   "execution_count": 66,
   "id": "e5f92765-8c3e-4fd8-955f-8eaba266fe7d",
   "metadata": {},
   "outputs": [],
   "source": [
    "#Функция для Пуассоновского бутстрепа\n",
    "def bootstrap(likes1, views1, likes2, views2, n_bootstrap=2000):\n",
    "\n",
    "    poisson_bootstraps1 = stats.poisson(1).rvs(\n",
    "        (n_bootstrap, len(likes1))).astype(np.int64)\n",
    "\n",
    "    poisson_bootstraps2 = stats.poisson(1).rvs(\n",
    "            (n_bootstrap, len(likes2))).astype(np.int64)\n",
    "    \n",
    "    globalCTR1 = (poisson_bootstraps1*likes1).sum(axis=1)/(poisson_bootstraps1*views1).sum(axis=1)\n",
    "    \n",
    "    globalCTR2 = (poisson_bootstraps2*likes2).sum(axis=1)/(poisson_bootstraps2*views2).sum(axis=1)\n",
    "\n",
    "    return globalCTR1, globalCTR2"
   ]
  },
  {
   "cell_type": "code",
   "execution_count": 67,
   "id": "f4e1125a-d391-4a23-afa6-a21ca9a08cad",
   "metadata": {},
   "outputs": [],
   "source": [
    "#преобразую в массивы numpy\n",
    "likes1 = df[df.exp_group == 1].likes.to_numpy()\n",
    "views1 = df[df.exp_group == 1].views.to_numpy()\n",
    "likes2 = df[df.exp_group == 2].likes.to_numpy()\n",
    "views2 = df[df.exp_group == 2].views.to_numpy()\n",
    "\n",
    "ctr1, ctr2 = bootstrap(likes1, views1, likes2, views2)"
   ]
  },
  {
   "cell_type": "markdown",
   "id": "0f34b213-e8e4-420b-afcc-ea89aa2d3bc1",
   "metadata": {},
   "source": [
    "## Визуализирую распределения глобальных CTR по группам"
   ]
  },
  {
   "cell_type": "code",
   "execution_count": 68,
   "id": "ba6031c0-30ca-45c7-bf83-8f33713946ec",
   "metadata": {},
   "outputs": [
    {
     "data": {
      "text/plain": [
       "<matplotlib.legend.Legend at 0x7ff103e3e190>"
      ]
     },
     "execution_count": 68,
     "metadata": {},
     "output_type": "execute_result"
    },
    {
     "data": {
      "image/png": "[encoded data removed]",
      "text/plain": [
       "<Figure size 640x480 with 1 Axes>"
      ]
     },
     "metadata": {},
     "output_type": "display_data"
    }
   ],
   "source": [
    "sns.histplot(ctr1, color = 'gold')\n",
    "sns.histplot(ctr2, color = 'black')\n",
    "plt.legend(['ctr1', 'ctr2'])"
   ]
  },
  {
   "cell_type": "markdown",
   "id": "60988b1c-a1c8-41cd-83d3-bc22f26948c8",
   "metadata": {},
   "source": [
    "## По визуализации можно сделать вывод, что в 1ой группе CTR значительно выше, чем во 2ой"
   ]
  },
  {
   "cell_type": "code",
   "execution_count": 32,
   "id": "462beaf2-9a84-4090-aa79-3702826d2e17",
   "metadata": {},
   "outputs": [
    {
     "data": {
      "text/plain": [
       "MannwhitneyuResult(statistic=4000000.0, pvalue=0.0)"
      ]
     },
     "execution_count": 32,
     "metadata": {},
     "output_type": "execute_result"
    }
   ],
   "source": [
    " stats.mannwhitneyu(ctr1, ctr2, alternative = 'two-sided')"
   ]
  },
  {
   "cell_type": "markdown",
   "id": "f311adf1-492f-4e8f-a7a8-85c83fc4bfc7",
   "metadata": {},
   "source": [
    "## Тест Манна-Уитни однозначно говорит о различиях в группах"
   ]
  },
  {
   "cell_type": "markdown",
   "id": "47a02cac-6aeb-41e2-831e-bb8e34c7654b",
   "metadata": {},
   "source": [
    "## Визуализирую распределение разницы глобальных CTR в группах"
   ]
  },
  {
   "cell_type": "code",
   "execution_count": 33,
   "id": "235cd3dd-54d3-4be7-9f9c-77a452b3aae0",
   "metadata": {},
   "outputs": [
    {
     "data": {
      "text/plain": [
       "<Axes: ylabel='Count'>"
      ]
     },
     "execution_count": 33,
     "metadata": {},
     "output_type": "execute_result"
    },
    {
     "data": {
      "image/png": "[encoded data removed]",
      "text/plain": [
       "<Figure size 640x480 with 1 Axes>"
      ]
     },
     "metadata": {},
     "output_type": "display_data"
    }
   ],
   "source": [
    "sns.histplot(ctr1 - ctr2)"
   ]
  },
  {
   "cell_type": "markdown",
   "id": "c95c41a5-5638-419e-9ece-c0a199ba4c92",
   "metadata": {},
   "source": [
    "## Распределение разницы глобальных CTR не пересекает 0 и находится правее него, что говорит о том, что CTR в 1 группе больше, чем во 2."
   ]
  },
  {
   "cell_type": "markdown",
   "id": "ce3569cf-0e05-4662-87ed-61c2e5038be0",
   "metadata": {},
   "source": [
    "## Бакетное преобразование"
   ]
  },
  {
   "cell_type": "code",
   "execution_count": 34,
   "id": "061a2788-7a03-4cd3-ada8-70c406e6ebf9",
   "metadata": {},
   "outputs": [],
   "source": [
    "q = \"\"\"\n",
    "\n",
    "SELECT exp_group, bucket,\n",
    "    sum(likes)/sum(views) as bucket_ctr,\n",
    "    quantileExact(0.9)(ctr) as ctr9\n",
    "FROM (SELECT exp_group, \n",
    "        xxHash64(user_id)%50 as bucket,\n",
    "        user_id,\n",
    "        sum(action = 'like') as likes,\n",
    "        sum(action = 'view') as views,\n",
    "        likes/views as ctr\n",
    "    FROM {db}.feed_actions \n",
    "    WHERE toDate(time) between '2023-12-29' and '2024-01-04'\n",
    "        and exp_group in (1,2)\n",
    "    GROUP BY exp_group, bucket, user_id)\n",
    "GROUP BY exp_group, bucket\n",
    "\"\"\"\n",
    "\n",
    "df = ph.read_clickhouse(q, connection=connection)"
   ]
  },
  {
   "cell_type": "markdown",
   "id": "cc19ca7a-ce15-4aa5-be0d-ce071fa643ce",
   "metadata": {},
   "source": [
    "## Посмотрим на распределения побакетных CTR"
   ]
  },
  {
   "cell_type": "code",
   "execution_count": 37,
   "id": "12cd0e92-c50b-46c8-928d-b157c94a6650",
   "metadata": {},
   "outputs": [
    {
     "data": {
      "text/plain": [
       "<Axes: xlabel='bucket_ctr', ylabel='Count'>"
      ]
     },
     "execution_count": 37,
     "metadata": {},
     "output_type": "execute_result"
    },
    {
     "data": {
      "image/png": "[encoded data removed]",
      "text/plain": [
       "<Figure size 640x480 with 1 Axes>"
      ]
     },
     "metadata": {},
     "output_type": "display_data"
    }
   ],
   "source": [
    "sns.histplot(df[df.exp_group == 1].bucket_ctr, color='orange', bins=50)"
   ]
  },
  {
   "cell_type": "code",
   "execution_count": 38,
   "id": "3725b016-f790-40ed-9695-a9bb2fedfee9",
   "metadata": {},
   "outputs": [
    {
     "data": {
      "text/plain": [
       "<Axes: xlabel='bucket_ctr', ylabel='Count'>"
      ]
     },
     "execution_count": 38,
     "metadata": {},
     "output_type": "execute_result"
    },
    {
     "data": {
      "image/png": "[encoded data removed]",
      "text/plain": [
       "<Figure size 640x480 with 1 Axes>"
      ]
     },
     "metadata": {},
     "output_type": "display_data"
    }
   ],
   "source": [
    "sns.histplot(df[df.exp_group == 2].bucket_ctr, color='silver', bins=50)"
   ]
  },
  {
   "cell_type": "markdown",
   "id": "6e2bcf2f-48cc-4652-87ac-e2e5e89faa5d",
   "metadata": {},
   "source": [
    "Распределения не очень похожи на нормальные, поэтому лучше использовать тест Манна-Уитни"
   ]
  },
  {
   "cell_type": "code",
   "execution_count": 43,
   "id": "e2a9aa24-6a19-4106-abf5-1ece35a677d5",
   "metadata": {},
   "outputs": [
    {
     "data": {
      "text/plain": [
       "MannwhitneyuResult(statistic=1997.0, pvalue=2.6576427804010095e-07)"
      ]
     },
     "execution_count": 43,
     "metadata": {},
     "output_type": "execute_result"
    }
   ],
   "source": [
    "stats.mannwhitneyu(df[df.exp_group == 1].bucket_ctr,\n",
    "                   df[df.exp_group == 2].bucket_ctr,\n",
    "                   alternative = 'two-sided')"
   ]
  },
  {
   "cell_type": "markdown",
   "id": "a740de13-a568-4cc3-85dc-5d2ff84c851c",
   "metadata": {},
   "source": [
    "## Тест Манна-Уитни показывает отличие в группах.\n",
    "Проведем на всякий случай t-test"
   ]
  },
  {
   "cell_type": "code",
   "execution_count": 44,
   "id": "58b67a90-1839-4a56-bdc1-3be924985043",
   "metadata": {},
   "outputs": [
    {
     "data": {
      "text/plain": [
       "Ttest_indResult(statistic=5.614819358149381, pvalue=4.592644937473873e-07)"
      ]
     },
     "execution_count": 44,
     "metadata": {},
     "output_type": "execute_result"
    }
   ],
   "source": [
    "stats.ttest_ind(df[df.exp_group == 1].bucket_ctr, \n",
    "          df[df.exp_group == 2].bucket_ctr, \n",
    "          equal_var = False)"
   ]
  },
  {
   "cell_type": "markdown",
   "id": "889876e6-2d71-480e-b4a3-9f4f1cf53d35",
   "metadata": {},
   "source": [
    "## t-test также показывает отличия"
   ]
  },
  {
   "cell_type": "markdown",
   "id": "7d639bea-9b3c-4cd9-a74a-c730fe848193",
   "metadata": {},
   "source": [
    "## Посмотрим на распределения CTR 90ого квантиля"
   ]
  },
  {
   "cell_type": "code",
   "execution_count": 41,
   "id": "736c3a69-a4cc-4f02-96eb-3d7d56b0685d",
   "metadata": {},
   "outputs": [
    {
     "data": {
      "text/plain": [
       "<Axes: xlabel='ctr9', ylabel='Count'>"
      ]
     },
     "execution_count": 41,
     "metadata": {},
     "output_type": "execute_result"
    },
    {
     "data": {
      "image/png": "[encoded data removed]",
      "text/plain": [
       "<Figure size 640x480 with 1 Axes>"
      ]
     },
     "metadata": {},
     "output_type": "display_data"
    }
   ],
   "source": [
    "sns.histplot(df[df.exp_group == 1].ctr9, color='red', bins=50)"
   ]
  },
  {
   "cell_type": "code",
   "execution_count": 47,
   "id": "1d7f74e0-ada2-434e-8af2-214a7e15b8b1",
   "metadata": {},
   "outputs": [
    {
     "data": {
      "text/plain": [
       "<Axes: xlabel='ctr9', ylabel='Count'>"
      ]
     },
     "execution_count": 47,
     "metadata": {},
     "output_type": "execute_result"
    },
    {
     "data": {
      "image/png": "[encoded data removed]",
      "text/plain": [
       "<Figure size 640x480 with 1 Axes>"
      ]
     },
     "metadata": {},
     "output_type": "display_data"
    }
   ],
   "source": [
    "sns.histplot(df[df.exp_group == 2].ctr9, color='violet', bins=50)"
   ]
  },
  {
   "cell_type": "markdown",
   "id": "724eef0c-3025-46de-9222-a9eaaa24c160",
   "metadata": {},
   "source": [
    "Распределения 90ого квантиля больше напоминают нормальное распределение "
   ]
  },
  {
   "cell_type": "code",
   "execution_count": 48,
   "id": "52db51f8-b9cb-4e74-82c5-1066a0370182",
   "metadata": {},
   "outputs": [
    {
     "data": {
      "text/plain": [
       "MannwhitneyuResult(statistic=0.0, pvalue=6.7601631082665925e-18)"
      ]
     },
     "execution_count": 48,
     "metadata": {},
     "output_type": "execute_result"
    }
   ],
   "source": [
    "##Тест Манна-Уитни\n",
    "\n",
    "stats.mannwhitneyu(df[df.exp_group == 1].ctr9,\n",
    "                   df[df.exp_group == 2].ctr9,\n",
    "                   alternative = 'two-sided')"
   ]
  },
  {
   "cell_type": "code",
   "execution_count": 49,
   "id": "e11b7b32-422f-4f6d-8be9-b6824d8d952d",
   "metadata": {},
   "outputs": [
    {
     "data": {
      "text/plain": [
       "Ttest_indResult(statistic=5.614819358149381, pvalue=4.592644937473873e-07)"
      ]
     },
     "execution_count": 49,
     "metadata": {},
     "output_type": "execute_result"
    }
   ],
   "source": [
    "## t-test\n",
    "\n",
    "stats.ttest_ind(df[df.exp_group == 1].bucket_ctr, \n",
    "          df[df.exp_group == 2].bucket_ctr, \n",
    "          equal_var = False)"
   ]
  },
  {
   "cell_type": "markdown",
   "id": "4d25a3a0-0f90-4a7e-9280-904592ce405d",
   "metadata": {},
   "source": [
    "## Оба теста показывают различия"
   ]
  },
  {
   "cell_type": "markdown",
   "id": "29043f4d-7136-4473-b876-ca02bb60b22d",
   "metadata": {},
   "source": [
    "## Вывод: \n",
    "\n",
    "Я проанализировал результаты эксперимента по влиянию нового алгоритма рекомендации постов на метрику CTR в период с 29 декабря 2023 года по 4 января 2024 года. В 1ой группе применялся старый алгоритм, то есть она была контрольной, 2 группа - тестовая, в ней применялся новый алгоритм. Я визуализировал распределение данных на гистограмме, провел t-test и тест Манна-Уитни, где были получены противоречивые результаты, провел t-test и тест Манна-Уитни на сглаженном CTR, где также по результату t-теста нельзя было отклонить нулевую гипотезу, хотя p-value был значительно меньше, применил Пуассоновский бутстреп, чтобы посчитать разницу в глобальных CTR, который показал, что в 1 группе глобальный CTR значительно выше, а также провел бакетное преобразование, по результатам которого t-test и тест Манна-Уитни показали различия в группах. Основной вывод такой, что не следует применять новый алгоритм рекомендации постов, так как результаты в первой группе были лучше. Новый алгоритм предполагал, что будет рекомендовать посты пользователям похожие на те, которые они уже лайкали и что это может привести к увеличению метрики CTR. Но на деле, возможно, имел место обратный эффект, что пользователям было неинтересно смотреть на то, что они уже видели, поэтому новый алгоритм мог не сработать."
   ]
  }
 ],
 "metadata": {
  "kernelspec": {
   "display_name": "Python 3 (ipykernel)",
   "language": "python",
   "name": "python3"
  },
  "language_info": {
   "codemirror_mode": {
    "name": "ipython",
    "version": 3
   },
   "file_extension": ".py",
   "mimetype": "text/x-python",
   "name": "python",
   "nbconvert_exporter": "python",
   "pygments_lexer": "ipython3",
   "version": "3.8.10"
  }
 },
 "nbformat": 4,
 "nbformat_minor": 5
}
